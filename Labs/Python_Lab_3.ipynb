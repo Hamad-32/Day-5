{
 "cells": [
  {
   "cell_type": "markdown",
   "metadata": {},
   "source": [
    "# Python_Lab_3\n"
   ]
  },
  {
   "cell_type": "markdown",
   "metadata": {},
   "source": [
    "### Task 1\n",
    "- Write a function named **'create_student_records'** that takes a list of tuples. Each tuple contains a student's name and their scores in three subjects. The function should return a list of dictionaries, where each dictionary represents a student with keys: name, subject1, subject2, subject3. Use list comprehension to create the list of dictionaries."
   ]
  },
  {
   "cell_type": "code",
   "execution_count": 13,
   "metadata": {},
   "outputs": [
    {
     "name": "stdout",
     "output_type": "stream",
     "text": [
      "[{'name': 'Ali', 'subject1': 85, 'subject2': 90, 'subject3': 78}, {'name': 'Sara', 'subject1': 92, 'subject2': 50, 'subject3': 95}, {'name': 'Omar', 'subject1': 76, 'subject2': 80, 'subject3': 85}, {'name': 'Hamad', 'subject1': 76, 'subject2': 80, 'subject3': 85}]\n"
     ]
    }
   ],
   "source": [
    "def create_student_records(students):\n",
    "\n",
    "    return [{'name': name, 'subject1': s1, 'subject2': s2, 'subject3':s3} for name, s1, s2, s3 in students ]\n",
    "\n",
    "students = [\n",
    "    (\"Ali\", 85, 90, 78),\n",
    "    (\"Sara\", 92, 50, 95),\n",
    "    (\"Omar\", 76, 80, 85),\n",
    "    (\"Hamad\", 76, 80, 85)\n",
    "]\n",
    "\n",
    "records = create_student_records(students)\n",
    "print(records)"
   ]
  },
  {
   "cell_type": "markdown",
   "metadata": {},
   "source": [
    "### Task 2\n",
    "- Write a function named **'filter_and_sort_students'** that takes the list of dictionaries from Question 1 and returns a sorted list of student names who have an average score of 80 or more across all subjects. Sort the names in alphabetical order."
   ]
  },
  {
   "cell_type": "code",
   "execution_count": 15,
   "metadata": {},
   "outputs": [
    {
     "name": "stdout",
     "output_type": "stream",
     "text": [
      "['Ali', 'Hamad', 'Omar']\n"
     ]
    }
   ],
   "source": [
    "def filter_and_sort_students(students):\n",
    "    return sorted([student[\"name\"] for student in students \n",
    "      if (student[\"subject1\"] + student[\"subject2\"] + student[\"subject3\"]) / 3 >= 80  ])\n",
    "\n",
    "\n",
    "print(filter_and_sort_students(records))"
   ]
  },
  {
   "cell_type": "markdown",
   "metadata": {},
   "source": [
    "### Task 3\n",
    "- Write a function named **'get_product_info'** that prompts the user to enter information about a product. The function should ask for the product name, product price, and product quantity. If the user enters an invalid input (e.g., a non-numeric value for the price or quantity), the function should handle the error and prompt the user to enter the value again. Return a dictionary containing the product information."
   ]
  },
  {
   "cell_type": "code",
   "execution_count": 31,
   "metadata": {},
   "outputs": [
    {
     "name": "stdout",
     "output_type": "stream",
     "text": [
      "{'name': 'Laptop', 'price': 1200.0, 'quabtity': 1}\n"
     ]
    }
   ],
   "source": [
    "def get_product_info():\n",
    "    prodect_name = input(\"Enter the prodect name\").strip()\n",
    "\n",
    "    \n",
    "    #prodect_quantity = input(\"Enter the quantity\")\n",
    "    \n",
    "    while True:\n",
    "        try:\n",
    "            prodect_price = float(input(\"Enter the price ->\").strip())\n",
    "            break\n",
    "        except ValueError:\n",
    "            print(\"Invalid input! Please enter a numeric value for the price.\")\n",
    "    while True:\n",
    "        try:\n",
    "            prodect_quantity = int(input(\"Enter the quantity ->\").strip())\n",
    "            break\n",
    "        except ValueError:\n",
    "            print(\"Invalid input! Please enter a numeric value for the quantity.\")\n",
    "    \n",
    "    return {'name':prodect_name, 'price': prodect_price, 'quabtity': prodect_quantity}\n",
    "\n",
    "\n",
    "\n",
    "\n",
    "        \n",
    "\n",
    "print(get_product_info())"
   ]
  },
  {
   "cell_type": "markdown",
   "metadata": {},
   "source": [
    "### Task 4\n",
    "- Write a function named **'get_even_numbers'** that takes a list of integers and returns a list of even numbers using list comprehension."
   ]
  },
  {
   "cell_type": "code",
   "execution_count": 33,
   "metadata": {},
   "outputs": [
    {
     "name": "stdout",
     "output_type": "stream",
     "text": [
      "[2, 4, 6, 8, 20, 22, 24]\n"
     ]
    }
   ],
   "source": [
    "def get_even_numbers(numbers):\n",
    "    return [n for n in numbers if n % 2 == 0]\n",
    "\n",
    "numb = [1,2,3,4,5,6,7,8,11,20,22,24]\n",
    "print(get_even_numbers(numb))"
   ]
  },
  {
   "cell_type": "markdown",
   "metadata": {},
   "source": [
    "### Task 5\n",
    "- Write a function named **'pair_elements'** that takes two lists of equal length as parameters and returns a list of tuples, where each tuple contains corresponding elements from the two lists. Use the zip function to achieve this."
   ]
  },
  {
   "cell_type": "markdown",
   "metadata": {},
   "source": []
  },
  {
   "cell_type": "code",
   "execution_count": 41,
   "metadata": {},
   "outputs": [
    {
     "name": "stdout",
     "output_type": "stream",
     "text": [
      "[(1, 'a'), (2, 'b'), (3, 'c'), (4, 'd')]\n"
     ]
    }
   ],
   "source": [
    "def pair_elements(list1, list2):\n",
    "    return list(zip(list1,list2))\n",
    "\n",
    "l1 = [1,2,3,4]\n",
    "l2 = ['a','b','c','d']\n",
    "print(pair_elements(l1,l2))"
   ]
  },
  {
   "cell_type": "markdown",
   "metadata": {},
   "source": [
    "### Task 6\n",
    "- Write a function named **'square_dict_lambda'** that takes a list of integers and returns a dictionary where the keys are the integers and the values are their squares. Use a lambda function within a dictionary comprehension to achieve this."
   ]
  },
  {
   "cell_type": "code",
   "execution_count": 50,
   "metadata": {},
   "outputs": [
    {
     "name": "stdout",
     "output_type": "stream",
     "text": [
      "{1: 1, 2: 4, 3: 9, 4: 16}\n"
     ]
    }
   ],
   "source": [
    "def square_dict_lambda(numbers):\n",
    "    return {num: (lambda x: x ** 2) (num) for num in numbers}\n",
    "list1 = [1,2,3,4]\n",
    "print(square_dict_lambda(list1))"
   ]
  }
 ],
 "metadata": {
  "kernelspec": {
   "display_name": "Python 3",
   "language": "python",
   "name": "python3"
  },
  "language_info": {
   "codemirror_mode": {
    "name": "ipython",
    "version": 3
   },
   "file_extension": ".py",
   "mimetype": "text/x-python",
   "name": "python",
   "nbconvert_exporter": "python",
   "pygments_lexer": "ipython3",
   "version": "3.10.11"
  }
 },
 "nbformat": 4,
 "nbformat_minor": 2
}
